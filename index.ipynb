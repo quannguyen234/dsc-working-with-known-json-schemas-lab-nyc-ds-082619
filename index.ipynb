{
 "cells": [
  {
   "cell_type": "markdown",
   "metadata": {},
   "source": [
    "# Working with Known JSON Schemas - Lab"
   ]
  },
  {
   "cell_type": "markdown",
   "metadata": {},
   "source": [
    "## Introduction\n",
    "In this lab you'll practice working with json files whose schema you know beforehand."
   ]
  },
  {
   "cell_type": "markdown",
   "metadata": {},
   "source": [
    "## Objectives\n",
    "You will be able to:\n",
    "* Read JSON Documentation Schemas and translate into code\n",
    "* Extract data from known json schemas\n",
    "* Write data to predefined JSON schemas"
   ]
  },
  {
   "cell_type": "markdown",
   "metadata": {},
   "source": [
    "## Reading a JSON Schema\n",
    "\n",
    "Here's the JSON schema provided for a section of the NY Times API:\n",
    "<img src=\"images/nytimes_movie_schema.png\" width=500>\n",
    "\n",
    "or a fully expanded view:\n",
    "\n",
    "<img src=\"images/nytimes_movie_schema_detailed.png\" width=500>\n",
    "\n",
    "You can more about the documentation [here](https://developer.nytimes.com/docs/movie-reviews-api/1/routes/reviews/%7Btype%7D.json/get)."
   ]
  },
  {
   "cell_type": "markdown",
   "metadata": {},
   "source": [
    "You can see that the master structure is a dictionary and has a key named 'response'. This is also a dictionary and has two keys: 'data' and 'meta'. As you continue to examine the schema hierarchy, you'll notice the vast majority in this case are dictionaries. "
   ]
  },
  {
   "cell_type": "markdown",
   "metadata": {},
   "source": [
    "## Loading the Data File\n",
    "\n",
    "Start by importing the json file. The sample response from the api is stored in a file **ny_times_movies.json**"
   ]
  },
  {
   "cell_type": "code",
   "execution_count": 3,
   "metadata": {},
   "outputs": [],
   "source": [
    "#Your code here\n",
    "import json\n",
    "import pandas as pd\n",
    "f = open('ny_times_movies.json', 'r')\n",
    "data = json.load(f)"
   ]
  },
  {
   "cell_type": "markdown",
   "metadata": {},
   "source": [
    "## Loading Specific Data\n",
    "\n",
    "Create a DataFrame of the major data container within the json file, listed under the 'results' heading in the schema above."
   ]
  },
  {
   "cell_type": "code",
   "execution_count": 5,
   "metadata": {},
   "outputs": [
    {
     "data": {
      "text/html": [
       "<div>\n",
       "<style scoped>\n",
       "    .dataframe tbody tr th:only-of-type {\n",
       "        vertical-align: middle;\n",
       "    }\n",
       "\n",
       "    .dataframe tbody tr th {\n",
       "        vertical-align: top;\n",
       "    }\n",
       "\n",
       "    .dataframe thead th {\n",
       "        text-align: right;\n",
       "    }\n",
       "</style>\n",
       "<table border=\"1\" class=\"dataframe\">\n",
       "  <thead>\n",
       "    <tr style=\"text-align: right;\">\n",
       "      <th></th>\n",
       "      <th>status</th>\n",
       "      <th>copyright</th>\n",
       "      <th>has_more</th>\n",
       "      <th>num_results</th>\n",
       "      <th>results</th>\n",
       "    </tr>\n",
       "  </thead>\n",
       "  <tbody>\n",
       "    <tr>\n",
       "      <th>0</th>\n",
       "      <td>OK</td>\n",
       "      <td>Copyright (c) 2018 The New York Times Company....</td>\n",
       "      <td>True</td>\n",
       "      <td>20</td>\n",
       "      <td>{'display_title': 'Can You Ever Forgive Me', '...</td>\n",
       "    </tr>\n",
       "    <tr>\n",
       "      <th>1</th>\n",
       "      <td>OK</td>\n",
       "      <td>Copyright (c) 2018 The New York Times Company....</td>\n",
       "      <td>True</td>\n",
       "      <td>20</td>\n",
       "      <td>{'display_title': 'Charm City', 'mpaa_rating':...</td>\n",
       "    </tr>\n",
       "    <tr>\n",
       "      <th>2</th>\n",
       "      <td>OK</td>\n",
       "      <td>Copyright (c) 2018 The New York Times Company....</td>\n",
       "      <td>True</td>\n",
       "      <td>20</td>\n",
       "      <td>{'display_title': 'Horn from the Heart: The Pa...</td>\n",
       "    </tr>\n",
       "    <tr>\n",
       "      <th>3</th>\n",
       "      <td>OK</td>\n",
       "      <td>Copyright (c) 2018 The New York Times Company....</td>\n",
       "      <td>True</td>\n",
       "      <td>20</td>\n",
       "      <td>{'display_title': 'The Price of Everything', '...</td>\n",
       "    </tr>\n",
       "    <tr>\n",
       "      <th>4</th>\n",
       "      <td>OK</td>\n",
       "      <td>Copyright (c) 2018 The New York Times Company....</td>\n",
       "      <td>True</td>\n",
       "      <td>20</td>\n",
       "      <td>{'display_title': 'Impulso', 'mpaa_rating': ''...</td>\n",
       "    </tr>\n",
       "    <tr>\n",
       "      <th>5</th>\n",
       "      <td>OK</td>\n",
       "      <td>Copyright (c) 2018 The New York Times Company....</td>\n",
       "      <td>True</td>\n",
       "      <td>20</td>\n",
       "      <td>{'display_title': 'Watergate', 'mpaa_rating': ...</td>\n",
       "    </tr>\n",
       "    <tr>\n",
       "      <th>6</th>\n",
       "      <td>OK</td>\n",
       "      <td>Copyright (c) 2018 The New York Times Company....</td>\n",
       "      <td>True</td>\n",
       "      <td>20</td>\n",
       "      <td>{'display_title': 'Barbara', 'mpaa_rating': ''...</td>\n",
       "    </tr>\n",
       "    <tr>\n",
       "      <th>7</th>\n",
       "      <td>OK</td>\n",
       "      <td>Copyright (c) 2018 The New York Times Company....</td>\n",
       "      <td>True</td>\n",
       "      <td>20</td>\n",
       "      <td>{'display_title': 'Over the Limit', 'mpaa_rati...</td>\n",
       "    </tr>\n",
       "    <tr>\n",
       "      <th>8</th>\n",
       "      <td>OK</td>\n",
       "      <td>Copyright (c) 2018 The New York Times Company....</td>\n",
       "      <td>True</td>\n",
       "      <td>20</td>\n",
       "      <td>{'display_title': 'The Kindergarten Teacher', ...</td>\n",
       "    </tr>\n",
       "    <tr>\n",
       "      <th>9</th>\n",
       "      <td>OK</td>\n",
       "      <td>Copyright (c) 2018 The New York Times Company....</td>\n",
       "      <td>True</td>\n",
       "      <td>20</td>\n",
       "      <td>{'display_title': 'Classical Period', 'mpaa_ra...</td>\n",
       "    </tr>\n",
       "    <tr>\n",
       "      <th>10</th>\n",
       "      <td>OK</td>\n",
       "      <td>Copyright (c) 2018 The New York Times Company....</td>\n",
       "      <td>True</td>\n",
       "      <td>20</td>\n",
       "      <td>{'display_title': 'Bad Times at the El Royale'...</td>\n",
       "    </tr>\n",
       "    <tr>\n",
       "      <th>11</th>\n",
       "      <td>OK</td>\n",
       "      <td>Copyright (c) 2018 The New York Times Company....</td>\n",
       "      <td>True</td>\n",
       "      <td>20</td>\n",
       "      <td>{'display_title': 'Beautiful Boy', 'mpaa_ratin...</td>\n",
       "    </tr>\n",
       "    <tr>\n",
       "      <th>12</th>\n",
       "      <td>OK</td>\n",
       "      <td>Copyright (c) 2018 The New York Times Company....</td>\n",
       "      <td>True</td>\n",
       "      <td>20</td>\n",
       "      <td>{'display_title': 'The Oath', 'mpaa_rating': '...</td>\n",
       "    </tr>\n",
       "    <tr>\n",
       "      <th>13</th>\n",
       "      <td>OK</td>\n",
       "      <td>Copyright (c) 2018 The New York Times Company....</td>\n",
       "      <td>True</td>\n",
       "      <td>20</td>\n",
       "      <td>{'display_title': 'Bikini Moon', 'mpaa_rating'...</td>\n",
       "    </tr>\n",
       "    <tr>\n",
       "      <th>14</th>\n",
       "      <td>OK</td>\n",
       "      <td>Copyright (c) 2018 The New York Times Company....</td>\n",
       "      <td>True</td>\n",
       "      <td>20</td>\n",
       "      <td>{'display_title': 'Goosebumps 2: Haunted Hallo...</td>\n",
       "    </tr>\n",
       "    <tr>\n",
       "      <th>15</th>\n",
       "      <td>OK</td>\n",
       "      <td>Copyright (c) 2018 The New York Times Company....</td>\n",
       "      <td>True</td>\n",
       "      <td>20</td>\n",
       "      <td>{'display_title': 'The Sentence', 'mpaa_rating...</td>\n",
       "    </tr>\n",
       "    <tr>\n",
       "      <th>16</th>\n",
       "      <td>OK</td>\n",
       "      <td>Copyright (c) 2018 The New York Times Company....</td>\n",
       "      <td>True</td>\n",
       "      <td>20</td>\n",
       "      <td>{'display_title': 'All Square', 'mpaa_rating':...</td>\n",
       "    </tr>\n",
       "    <tr>\n",
       "      <th>17</th>\n",
       "      <td>OK</td>\n",
       "      <td>Copyright (c) 2018 The New York Times Company....</td>\n",
       "      <td>True</td>\n",
       "      <td>20</td>\n",
       "      <td>{'display_title': 'Sadie', 'mpaa_rating': '', ...</td>\n",
       "    </tr>\n",
       "    <tr>\n",
       "      <th>18</th>\n",
       "      <td>OK</td>\n",
       "      <td>Copyright (c) 2018 The New York Times Company....</td>\n",
       "      <td>True</td>\n",
       "      <td>20</td>\n",
       "      <td>{'display_title': 'After Everything', 'mpaa_ra...</td>\n",
       "    </tr>\n",
       "    <tr>\n",
       "      <th>19</th>\n",
       "      <td>OK</td>\n",
       "      <td>Copyright (c) 2018 The New York Times Company....</td>\n",
       "      <td>True</td>\n",
       "      <td>20</td>\n",
       "      <td>{'display_title': 'First Man', 'mpaa_rating': ...</td>\n",
       "    </tr>\n",
       "  </tbody>\n",
       "</table>\n",
       "</div>"
      ],
      "text/plain": [
       "   status                                          copyright  has_more  \\\n",
       "0      OK  Copyright (c) 2018 The New York Times Company....      True   \n",
       "1      OK  Copyright (c) 2018 The New York Times Company....      True   \n",
       "2      OK  Copyright (c) 2018 The New York Times Company....      True   \n",
       "3      OK  Copyright (c) 2018 The New York Times Company....      True   \n",
       "4      OK  Copyright (c) 2018 The New York Times Company....      True   \n",
       "5      OK  Copyright (c) 2018 The New York Times Company....      True   \n",
       "6      OK  Copyright (c) 2018 The New York Times Company....      True   \n",
       "7      OK  Copyright (c) 2018 The New York Times Company....      True   \n",
       "8      OK  Copyright (c) 2018 The New York Times Company....      True   \n",
       "9      OK  Copyright (c) 2018 The New York Times Company....      True   \n",
       "10     OK  Copyright (c) 2018 The New York Times Company....      True   \n",
       "11     OK  Copyright (c) 2018 The New York Times Company....      True   \n",
       "12     OK  Copyright (c) 2018 The New York Times Company....      True   \n",
       "13     OK  Copyright (c) 2018 The New York Times Company....      True   \n",
       "14     OK  Copyright (c) 2018 The New York Times Company....      True   \n",
       "15     OK  Copyright (c) 2018 The New York Times Company....      True   \n",
       "16     OK  Copyright (c) 2018 The New York Times Company....      True   \n",
       "17     OK  Copyright (c) 2018 The New York Times Company....      True   \n",
       "18     OK  Copyright (c) 2018 The New York Times Company....      True   \n",
       "19     OK  Copyright (c) 2018 The New York Times Company....      True   \n",
       "\n",
       "    num_results                                            results  \n",
       "0            20  {'display_title': 'Can You Ever Forgive Me', '...  \n",
       "1            20  {'display_title': 'Charm City', 'mpaa_rating':...  \n",
       "2            20  {'display_title': 'Horn from the Heart: The Pa...  \n",
       "3            20  {'display_title': 'The Price of Everything', '...  \n",
       "4            20  {'display_title': 'Impulso', 'mpaa_rating': ''...  \n",
       "5            20  {'display_title': 'Watergate', 'mpaa_rating': ...  \n",
       "6            20  {'display_title': 'Barbara', 'mpaa_rating': ''...  \n",
       "7            20  {'display_title': 'Over the Limit', 'mpaa_rati...  \n",
       "8            20  {'display_title': 'The Kindergarten Teacher', ...  \n",
       "9            20  {'display_title': 'Classical Period', 'mpaa_ra...  \n",
       "10           20  {'display_title': 'Bad Times at the El Royale'...  \n",
       "11           20  {'display_title': 'Beautiful Boy', 'mpaa_ratin...  \n",
       "12           20  {'display_title': 'The Oath', 'mpaa_rating': '...  \n",
       "13           20  {'display_title': 'Bikini Moon', 'mpaa_rating'...  \n",
       "14           20  {'display_title': 'Goosebumps 2: Haunted Hallo...  \n",
       "15           20  {'display_title': 'The Sentence', 'mpaa_rating...  \n",
       "16           20  {'display_title': 'All Square', 'mpaa_rating':...  \n",
       "17           20  {'display_title': 'Sadie', 'mpaa_rating': '', ...  \n",
       "18           20  {'display_title': 'After Everything', 'mpaa_ra...  \n",
       "19           20  {'display_title': 'First Man', 'mpaa_rating': ...  "
      ]
     },
     "execution_count": 5,
     "metadata": {},
     "output_type": "execute_result"
    }
   ],
   "source": [
    "#Your code here\n",
    "df= pd.DataFrame(data)\n",
    "df"
   ]
  },
  {
   "cell_type": "markdown",
   "metadata": {},
   "source": [
    "## How many unique critics are there?"
   ]
  },
  {
   "cell_type": "code",
   "execution_count": null,
   "metadata": {},
   "outputs": [],
   "source": [
    "#Your code here"
   ]
  },
  {
   "cell_type": "markdown",
   "metadata": {},
   "source": [
    "## Create a new column for the review's url. Title the column 'review_url'"
   ]
  },
  {
   "cell_type": "code",
   "execution_count": null,
   "metadata": {},
   "outputs": [],
   "source": [
    "#Your code here"
   ]
  },
  {
   "cell_type": "markdown",
   "metadata": {},
   "source": [
    "## How many results are in the file?"
   ]
  },
  {
   "cell_type": "code",
   "execution_count": null,
   "metadata": {},
   "outputs": [],
   "source": [
    "#Your code here"
   ]
  },
  {
   "cell_type": "markdown",
   "metadata": {},
   "source": [
    "## Summary\n",
    "Well done! Here you continued to gather practice extracting data from JSON files and transforming them into our standard tool of Pandas DataFrames."
   ]
  }
 ],
 "metadata": {
  "kernelspec": {
   "display_name": "Python 3",
   "language": "python",
   "name": "python3"
  },
  "language_info": {
   "codemirror_mode": {
    "name": "ipython",
    "version": 3
   },
   "file_extension": ".py",
   "mimetype": "text/x-python",
   "name": "python",
   "nbconvert_exporter": "python",
   "pygments_lexer": "ipython3",
   "version": "3.6.6"
  }
 },
 "nbformat": 4,
 "nbformat_minor": 2
}
